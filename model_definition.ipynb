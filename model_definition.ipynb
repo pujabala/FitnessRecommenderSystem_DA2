{
 "cells": [
  {
   "cell_type": "code",
   "execution_count": null,
   "metadata": {
    "id": "mEwqGkxFHg0u"
   },
   "outputs": [],
   "source": [
    "import numpy as np\n",
    "import pandas as pd\n",
    "from sklearn.preprocessing import LabelEncoder\n",
    "from sklearn.metrics.pairwise import cosine_similarity\n",
    "from sklearn.preprocessing import MinMaxScaler\n",
    "import pickle\n",
    "\n"
   ]
  },
  {
   "cell_type": "code",
   "execution_count": 2,
   "metadata": {
    "id": "NoVSAMb1HlvY"
   },
   "outputs": [],
   "source": [
    "user_profiles = pd.read_csv('user_profiles.csv')\n",
    "workoutfeedback = pd.read_csv('workoutfeedback.csv')"
   ]
  },
  {
   "cell_type": "markdown",
   "metadata": {
    "id": "Euc_hEP9WzkK"
   },
   "source": [
    "#Data Preprocessing\n"
   ]
  },
  {
   "cell_type": "markdown",
   "metadata": {
    "id": "l0-w8TtFW1px"
   },
   "source": [
    "##User Profiles"
   ]
  },
  {
   "cell_type": "code",
   "execution_count": 3,
   "metadata": {
    "id": "f2nDQziOkBp0"
   },
   "outputs": [],
   "source": [
    "def preprocess_and_encode_user_data(user_profiles, given_user_df):\n",
    "    scaler = MinMaxScaler()\n",
    "    columns_to_scale = ['Age', 'Height (cm)', 'Weight (kg)', 'BMI']\n",
    "    user_profiles[columns_to_scale] = scaler.fit_transform(user_profiles[columns_to_scale])\n",
    "    given_user_df[columns_to_scale] = scaler.transform(given_user_df[columns_to_scale])\n",
    "    combined_df = pd.concat([user_profiles, given_user_df], ignore_index=True)\n",
    "\n",
    "    le = LabelEncoder()\n",
    "    categorical_columns = ['Gender', 'Primary Fitness Goal', 'Secondary Fitness Goal', 'Preferred Activity Type', 'Workout Intensity']\n",
    "\n",
    "    for col in categorical_columns:\n",
    "        le.fit(combined_df[col])\n",
    "        combined_df[col] = le.transform(combined_df[col])\n",
    "\n",
    "    encoded_user_profiles = combined_df.iloc[:-1].copy()\n",
    "    encoded_given_user = combined_df.iloc[-1:].copy()\n",
    "\n",
    "    return encoded_user_profiles, encoded_given_user\n"
   ]
  },
  {
   "cell_type": "code",
   "execution_count": 4,
   "metadata": {
    "id": "uNbVQ0lbl-hP"
   },
   "outputs": [],
   "source": [
    "given_user = {\n",
    "    'uid': 1012,\n",
    "    'Age': 29,\n",
    "    'Gender': 'Female',  # This is a string, we need to encode it\n",
    "    'Height (cm)': 164,\n",
    "    'Weight (kg)': 91,\n",
    "    'BMI': 33.83,\n",
    "    'Primary Fitness Goal': 'Endurance',  # String, needs encoding\n",
    "    'Secondary Fitness Goal': 'Stress reduction',  # String, needs encoding\n",
    "    'Preferred Activity Type': 'HIIT',  # String, needs encoding\n",
    "    'Workout Intensity': 'Beginner'  # String, needs encoding\n",
    "}\n",
    "\n",
    "given_user_df = pd.DataFrame([given_user])\n",
    "encoded_user_profiles,encoded_given_user =  preprocess_and_encode_user_data(user_profiles,given_user_df)"
   ]
  },
  {
   "cell_type": "markdown",
   "metadata": {
    "id": "M4ZdYF_-LztQ"
   },
   "source": [
    "#Collaborative Filtering to find similar Users"
   ]
  },
  {
   "cell_type": "code",
   "execution_count": 5,
   "metadata": {
    "id": "t9VGelrSkExs"
   },
   "outputs": [],
   "source": [
    "def collaborative_filtering(encoded_user_profiles, encoded_given_user, top_n=5):\n",
    "    all_users_df = pd.concat([encoded_user_profiles, encoded_given_user], ignore_index=True)\n",
    "    similarity_matrix = cosine_similarity(all_users_df)\n",
    "    similarity_scores = similarity_matrix[-1][:-1]\n",
    "    most_similar_user_indices = np.argsort(similarity_scores)[::-1][:top_n]\n",
    "    top_n_similarity_scores = similarity_scores[most_similar_user_indices]\n",
    "    user_ids = list(encoded_user_profiles.iloc[most_similar_user_indices]['uid'])\n",
    "    return user_ids"
   ]
  },
  {
   "cell_type": "code",
   "execution_count": 6,
   "metadata": {
    "id": "ONUu0ly3mrf3"
   },
   "outputs": [],
   "source": [
    "user_ids = collaborative_filtering(encoded_user_profiles, encoded_given_user, top_n=5)"
   ]
  },
  {
   "cell_type": "markdown",
   "metadata": {
    "id": "cFuG88H3qq0E"
   },
   "source": [
    "#Finding Exercises that the similar users liked"
   ]
  },
  {
   "cell_type": "code",
   "execution_count": 7,
   "metadata": {
    "id": "7QWKyFvlossh"
   },
   "outputs": [],
   "source": [
    "def generate_exercise_plan(workoutfeedback,similar_users_ids, top_n=5):\n",
    "    similar_users_feedback = workoutfeedback[workoutfeedback['uid'].isin(similar_users_ids)]\n",
    "    exercise_plan = similar_users_feedback.groupby('exid').agg({\n",
    "        'frequency': 'sum',\n",
    "        'rating': 'mean',\n",
    "        'motivation_level': 'mean'\n",
    "    }).reset_index()\n",
    "    exercise_plan_sorted = exercise_plan.sort_values(by=['frequency', 'rating'], ascending=[False, False])\n",
    "    recommended_exercises = exercise_plan_sorted.head(top_n)\n",
    "    return recommended_exercises\n",
    "\n"
   ]
  },
  {
   "cell_type": "code",
   "execution_count": 8,
   "metadata": {
    "colab": {
     "base_uri": "https://localhost:8080/"
    },
    "id": "pp2bOvJJqwq5",
    "outputId": "c59f33ad-3fac-44c2-a257-1fc28ad18946"
   },
   "outputs": [
    {
     "name": "stdout",
     "output_type": "stream",
     "text": [
      "Recommended Exercises for Given User:\n",
      "   exid       frequency  rating  motivation_level\n",
      "2  1728    Twice a week     4.0               5.0\n",
      "4  2407    Twice a week     1.0               1.0\n",
      "5  2563           Daily     5.0               3.0\n",
      "3  2399           Daily     3.0               5.0\n",
      "0    12  3 times a week     3.0               4.0\n"
     ]
    }
   ],
   "source": [
    "recommended_exercises = generate_exercise_plan(workoutfeedback,user_ids, top_n=5)\n",
    "\n",
    "print(\"Recommended Exercises for Given User:\")\n",
    "print(recommended_exercises)\n"
   ]
  },
  {
   "cell_type": "code",
   "execution_count": 9,
   "metadata": {
    "id": "dEq5kXw4t2vW"
   },
   "outputs": [],
   "source": [
    "def create_weekly_schedule(exercises):\n",
    "    days = ['Monday', 'Tuesday', 'Wednesday', 'Thursday', 'Friday', 'Saturday', 'Sunday']\n",
    "    schedule = {day: [] for day in days}\n",
    "    for i, row in exercises.iterrows():\n",
    "        exid = row['exid']\n",
    "        frequency = row['frequency']\n",
    "        if frequency == 'Daily':\n",
    "            for day in days:\n",
    "                schedule[day].append(exid)\n",
    "        elif frequency == '5 times a week':\n",
    "            selected_days = np.random.choice(days, 5, replace=False)\n",
    "            for day in selected_days:\n",
    "                schedule[day].append(exid)\n",
    "        elif frequency == '3 times a week':\n",
    "            selected_days = np.random.choice(days, 3, replace=False)\n",
    "            for day in selected_days:\n",
    "                schedule[day].append(exid)\n",
    "        elif frequency == 'Twice a week':\n",
    "            selected_days = np.random.choice(days, 2, replace=False)\n",
    "            for day in selected_days:\n",
    "                schedule[day].append(exid)\n",
    "    return schedule"
   ]
  },
  {
   "cell_type": "code",
   "execution_count": 10,
   "metadata": {
    "id": "Mtl0EnO3wFJt"
   },
   "outputs": [],
   "source": [
    "weekly_schedule = create_weekly_schedule(recommended_exercises)"
   ]
  },
  {
   "cell_type": "code",
   "execution_count": 11,
   "metadata": {
    "colab": {
     "base_uri": "https://localhost:8080/"
    },
    "id": "O8gkfnw9x83_",
    "outputId": "cba22066-7b5f-4e33-8afd-b7e8a49e0af9"
   },
   "outputs": [
    {
     "name": "stdout",
     "output_type": "stream",
     "text": [
      "Monday: [2563, 2399, 12]\n",
      "Tuesday: [1728, 2563, 2399, 12]\n",
      "Wednesday: [2407, 2563, 2399, 12]\n",
      "Thursday: [1728, 2563, 2399]\n",
      "Friday: [2563, 2399]\n",
      "Saturday: [2407, 2563, 2399]\n",
      "Sunday: [2563, 2399]\n"
     ]
    }
   ],
   "source": [
    "for i in weekly_schedule:\n",
    "  print(f\"{i}: {weekly_schedule[i]}\")"
   ]
  },
  {
   "cell_type": "markdown",
   "metadata": {
    "id": "ShXq4ft-5Hg9"
   },
   "source": [
    "#Final Model"
   ]
  },
  {
   "cell_type": "code",
   "execution_count": 12,
   "metadata": {
    "id": "ViKQ7jYe5HLa"
   },
   "outputs": [],
   "source": [
    "def FinalRecommenderSystem_initial(given_user_df,user_profiles,workoutfeedback):\n",
    "    encoded_user_profiles,encoded_given_user =  preprocess_and_encode_user_data(user_profiles,given_user_df)\n",
    "    user_ids = collaborative_filtering(encoded_user_profiles, encoded_given_user, top_n=5)\n",
    "    recommended_exercises = generate_exercise_plan(workoutfeedback, user_ids, top_n=5)\n",
    "    weekly_schedule = create_weekly_schedule(recommended_exercises)\n",
    "    return weekly_schedule"
   ]
  },
  {
   "cell_type": "code",
   "execution_count": 13,
   "metadata": {
    "colab": {
     "base_uri": "https://localhost:8080/"
    },
    "id": "3y-c39Ry6FmF",
    "outputId": "0037d31e-072f-4bc8-e182-9e31f5de7a45"
   },
   "outputs": [
    {
     "data": {
      "text/plain": [
       "{'Monday': [2563, 2399],\n",
       " 'Tuesday': [2563, 2399],\n",
       " 'Wednesday': [2563, 2399, 12],\n",
       " 'Thursday': [2407, 2563, 2399, 12],\n",
       " 'Friday': [2563, 2399, 12],\n",
       " 'Saturday': [1728, 2563, 2399],\n",
       " 'Sunday': [1728, 2407, 2563, 2399]}"
      ]
     },
     "execution_count": 13,
     "metadata": {},
     "output_type": "execute_result"
    }
   ],
   "source": [
    "FinalRecommenderSystem_initial(given_user_df,user_profiles,workoutfeedback)"
   ]
  },
  {
   "cell_type": "code",
   "execution_count": 14,
   "metadata": {
    "id": "GWbk5WBSKmn_"
   },
   "outputs": [],
   "source": [
    "def FinalRecommenderSystem(given_user_df,user_profiles,workoutfeedback,n_users,n_exercises):\n",
    "    scaler = MinMaxScaler()\n",
    "    columns_to_scale = ['Age', 'Height (cm)', 'Weight (kg)', 'BMI']\n",
    "    user_profiles[columns_to_scale] = scaler.fit_transform(user_profiles[columns_to_scale])\n",
    "    given_user_df[columns_to_scale] = scaler.transform(given_user_df[columns_to_scale])\n",
    "    combined_df = pd.concat([user_profiles, given_user_df], ignore_index=True)\n",
    "\n",
    "    le = LabelEncoder()\n",
    "    categorical_columns = ['Gender', 'Primary Fitness Goal', 'Secondary Fitness Goal', 'Preferred Activity Type', 'Workout Intensity']\n",
    "\n",
    "    for col in categorical_columns:\n",
    "        le.fit(combined_df[col])\n",
    "        combined_df[col] = le.transform(combined_df[col])\n",
    "\n",
    "    encoded_user_profiles = combined_df.iloc[:-1].copy()\n",
    "    encoded_given_user = combined_df.iloc[-1:].copy()\n",
    "\n",
    "    all_users_df = pd.concat([encoded_user_profiles, encoded_given_user], ignore_index=True)\n",
    "    similarity_matrix = cosine_similarity(all_users_df)\n",
    "    similarity_scores = similarity_matrix[-1][:-1]\n",
    "    most_similar_user_indices = np.argsort(similarity_scores)[::-1][:n_users]\n",
    "    top_n_similarity_scores = similarity_scores[most_similar_user_indices]\n",
    "    user_ids = list(encoded_user_profiles.iloc[most_similar_user_indices]['uid'])\n",
    "\n",
    "    similar_users_feedback = workoutfeedback[workoutfeedback['uid'].isin(user_ids)]\n",
    "    exercise_plan = similar_users_feedback.groupby('exid').agg({\n",
    "        'frequency': 'sum',\n",
    "        'rating': 'mean',\n",
    "        'motivation_level': 'mean'\n",
    "    }).reset_index()\n",
    "    exercise_plan_sorted = exercise_plan.sort_values(by=['frequency', 'rating'], ascending=[False, False])\n",
    "    recommended_exercises = exercise_plan_sorted.head(n_exercises)\n",
    "\n",
    "    days = ['Monday', 'Tuesday', 'Wednesday', 'Thursday', 'Friday', 'Saturday', 'Sunday']\n",
    "    schedule = {day: [] for day in days}\n",
    "    for i, row in recommended_exercises.iterrows():\n",
    "        exid = row['exid']\n",
    "        frequency = row['frequency']\n",
    "        if frequency == 'Daily':\n",
    "            for day in days:\n",
    "                schedule[day].append(exid)\n",
    "        elif frequency == '5 times a week':\n",
    "            selected_days = np.random.choice(days, 5, replace=False)\n",
    "            for day in selected_days:\n",
    "                schedule[day].append(exid)\n",
    "        elif frequency == '3 times a week':\n",
    "            selected_days = np.random.choice(days, 3, replace=False)\n",
    "            for day in selected_days:\n",
    "                schedule[day].append(exid)\n",
    "        elif frequency == 'Twice a week':\n",
    "            selected_days = np.random.choice(days, 2, replace=False)\n",
    "            for day in selected_days:\n",
    "                schedule[day].append(exid)\n",
    "    return schedule"
   ]
  },
  {
   "cell_type": "code",
   "execution_count": null,
   "metadata": {
    "id": "tjqY2Jo1LR0h"
   },
   "outputs": [],
   "source": [
    "with open('recommender_model.pkl', 'wb') as file:\n",
    "    pickle.dump(FinalRecommenderSystem, file)"
   ]
  }
 ],
 "metadata": {
  "colab": {
   "provenance": []
  },
  "kernelspec": {
   "display_name": "venv",
   "language": "python",
   "name": "python3"
  },
  "language_info": {
   "codemirror_mode": {
    "name": "ipython",
    "version": 3
   },
   "file_extension": ".py",
   "mimetype": "text/x-python",
   "name": "python",
   "nbconvert_exporter": "python",
   "pygments_lexer": "ipython3",
   "version": "3.12.5"
  }
 },
 "nbformat": 4,
 "nbformat_minor": 0
}
