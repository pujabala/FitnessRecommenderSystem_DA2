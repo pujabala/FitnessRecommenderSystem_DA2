{
  "nbformat": 4,
  "nbformat_minor": 0,
  "metadata": {
    "colab": {
      "provenance": []
    },
    "kernelspec": {
      "name": "python3",
      "display_name": "Python 3"
    },
    "language_info": {
      "name": "python"
    }
  },
  "cells": [
    {
      "cell_type": "code",
      "execution_count": 1,
      "metadata": {
        "id": "0nwjVwAqFVUU"
      },
      "outputs": [],
      "source": [
        "import numpy as np\n",
        "import pandas as pd\n",
        "import random\n",
        "from sklearn.preprocessing import LabelEncoder\n",
        "from sklearn.metrics.pairwise import cosine_similarity\n",
        "from sklearn.preprocessing import MinMaxScaler\n",
        "import pandas as pd\n",
        "from sklearn.preprocessing import LabelEncoder, MinMaxScaler\n",
        "from sklearn.metrics.pairwise import cosine_similarity\n",
        "import numpy as np\n",
        "import pandas as pd\n",
        "from sklearn.metrics.pairwise import cosine_similarity\n",
        "import numpy as np\n"
      ]
    },
    {
      "cell_type": "code",
      "source": [
        "ex = pd.read_csv('/content/megaGymDataset.csv')\n"
      ],
      "metadata": {
        "id": "0u0Uiil8Feca"
      },
      "execution_count": 2,
      "outputs": []
    },
    {
      "cell_type": "markdown",
      "source": [
        "#Understanding the Data"
      ],
      "metadata": {
        "id": "eFo9l-a6FrKG"
      }
    },
    {
      "cell_type": "markdown",
      "source": [
        "##Exercises DataSet"
      ],
      "metadata": {
        "id": "GJUBBStbF2iW"
      }
    },
    {
      "cell_type": "code",
      "source": [
        "ex.columns"
      ],
      "metadata": {
        "colab": {
          "base_uri": "https://localhost:8080/"
        },
        "id": "_hAfw6ufFq1z",
        "outputId": "c753ed5b-42d3-4778-da5e-b9872474bf14"
      },
      "execution_count": 3,
      "outputs": [
        {
          "output_type": "execute_result",
          "data": {
            "text/plain": [
              "Index(['Unnamed: 0', 'Title', 'Desc', 'Type', 'BodyPart', 'Equipment', 'Level',\n",
              "       'Rating', 'RatingDesc'],\n",
              "      dtype='object')"
            ]
          },
          "metadata": {},
          "execution_count": 3
        }
      ]
    },
    {
      "cell_type": "code",
      "source": [
        "ex.head()"
      ],
      "metadata": {
        "colab": {
          "base_uri": "https://localhost:8080/",
          "height": 310
        },
        "id": "C4z7ZukRGMTS",
        "outputId": "5e3e3d66-522d-4f5d-fd5c-095a03822afd"
      },
      "execution_count": 4,
      "outputs": [
        {
          "output_type": "execute_result",
          "data": {
            "text/plain": [
              "   Unnamed: 0                         Title  \\\n",
              "0           0        Partner plank band row   \n",
              "1           1  Banded crunch isometric hold   \n",
              "2           2         FYR Banded Plank Jack   \n",
              "3           3                 Banded crunch   \n",
              "4           4                        Crunch   \n",
              "\n",
              "                                                Desc      Type    BodyPart  \\\n",
              "0  The partner plank band row is an abdominal exe...  Strength  Abdominals   \n",
              "1  The banded crunch isometric hold is an exercis...  Strength  Abdominals   \n",
              "2  The banded plank jack is a variation on the pl...  Strength  Abdominals   \n",
              "3  The banded crunch is an exercise targeting the...  Strength  Abdominals   \n",
              "4  The crunch is a popular core exercise targetin...  Strength  Abdominals   \n",
              "\n",
              "  Equipment         Level  Rating RatingDesc  \n",
              "0     Bands  Intermediate     0.0        NaN  \n",
              "1     Bands  Intermediate     NaN        NaN  \n",
              "2     Bands  Intermediate     NaN        NaN  \n",
              "3     Bands  Intermediate     NaN        NaN  \n",
              "4     Bands  Intermediate     NaN        NaN  "
            ],
            "text/html": [
              "\n",
              "  <div id=\"df-61ead4fb-415c-4959-b378-d48268a60c40\" class=\"colab-df-container\">\n",
              "    <div>\n",
              "<style scoped>\n",
              "    .dataframe tbody tr th:only-of-type {\n",
              "        vertical-align: middle;\n",
              "    }\n",
              "\n",
              "    .dataframe tbody tr th {\n",
              "        vertical-align: top;\n",
              "    }\n",
              "\n",
              "    .dataframe thead th {\n",
              "        text-align: right;\n",
              "    }\n",
              "</style>\n",
              "<table border=\"1\" class=\"dataframe\">\n",
              "  <thead>\n",
              "    <tr style=\"text-align: right;\">\n",
              "      <th></th>\n",
              "      <th>Unnamed: 0</th>\n",
              "      <th>Title</th>\n",
              "      <th>Desc</th>\n",
              "      <th>Type</th>\n",
              "      <th>BodyPart</th>\n",
              "      <th>Equipment</th>\n",
              "      <th>Level</th>\n",
              "      <th>Rating</th>\n",
              "      <th>RatingDesc</th>\n",
              "    </tr>\n",
              "  </thead>\n",
              "  <tbody>\n",
              "    <tr>\n",
              "      <th>0</th>\n",
              "      <td>0</td>\n",
              "      <td>Partner plank band row</td>\n",
              "      <td>The partner plank band row is an abdominal exe...</td>\n",
              "      <td>Strength</td>\n",
              "      <td>Abdominals</td>\n",
              "      <td>Bands</td>\n",
              "      <td>Intermediate</td>\n",
              "      <td>0.0</td>\n",
              "      <td>NaN</td>\n",
              "    </tr>\n",
              "    <tr>\n",
              "      <th>1</th>\n",
              "      <td>1</td>\n",
              "      <td>Banded crunch isometric hold</td>\n",
              "      <td>The banded crunch isometric hold is an exercis...</td>\n",
              "      <td>Strength</td>\n",
              "      <td>Abdominals</td>\n",
              "      <td>Bands</td>\n",
              "      <td>Intermediate</td>\n",
              "      <td>NaN</td>\n",
              "      <td>NaN</td>\n",
              "    </tr>\n",
              "    <tr>\n",
              "      <th>2</th>\n",
              "      <td>2</td>\n",
              "      <td>FYR Banded Plank Jack</td>\n",
              "      <td>The banded plank jack is a variation on the pl...</td>\n",
              "      <td>Strength</td>\n",
              "      <td>Abdominals</td>\n",
              "      <td>Bands</td>\n",
              "      <td>Intermediate</td>\n",
              "      <td>NaN</td>\n",
              "      <td>NaN</td>\n",
              "    </tr>\n",
              "    <tr>\n",
              "      <th>3</th>\n",
              "      <td>3</td>\n",
              "      <td>Banded crunch</td>\n",
              "      <td>The banded crunch is an exercise targeting the...</td>\n",
              "      <td>Strength</td>\n",
              "      <td>Abdominals</td>\n",
              "      <td>Bands</td>\n",
              "      <td>Intermediate</td>\n",
              "      <td>NaN</td>\n",
              "      <td>NaN</td>\n",
              "    </tr>\n",
              "    <tr>\n",
              "      <th>4</th>\n",
              "      <td>4</td>\n",
              "      <td>Crunch</td>\n",
              "      <td>The crunch is a popular core exercise targetin...</td>\n",
              "      <td>Strength</td>\n",
              "      <td>Abdominals</td>\n",
              "      <td>Bands</td>\n",
              "      <td>Intermediate</td>\n",
              "      <td>NaN</td>\n",
              "      <td>NaN</td>\n",
              "    </tr>\n",
              "  </tbody>\n",
              "</table>\n",
              "</div>\n",
              "    <div class=\"colab-df-buttons\">\n",
              "\n",
              "  <div class=\"colab-df-container\">\n",
              "    <button class=\"colab-df-convert\" onclick=\"convertToInteractive('df-61ead4fb-415c-4959-b378-d48268a60c40')\"\n",
              "            title=\"Convert this dataframe to an interactive table.\"\n",
              "            style=\"display:none;\">\n",
              "\n",
              "  <svg xmlns=\"http://www.w3.org/2000/svg\" height=\"24px\" viewBox=\"0 -960 960 960\">\n",
              "    <path d=\"M120-120v-720h720v720H120Zm60-500h600v-160H180v160Zm220 220h160v-160H400v160Zm0 220h160v-160H400v160ZM180-400h160v-160H180v160Zm440 0h160v-160H620v160ZM180-180h160v-160H180v160Zm440 0h160v-160H620v160Z\"/>\n",
              "  </svg>\n",
              "    </button>\n",
              "\n",
              "  <style>\n",
              "    .colab-df-container {\n",
              "      display:flex;\n",
              "      gap: 12px;\n",
              "    }\n",
              "\n",
              "    .colab-df-convert {\n",
              "      background-color: #E8F0FE;\n",
              "      border: none;\n",
              "      border-radius: 50%;\n",
              "      cursor: pointer;\n",
              "      display: none;\n",
              "      fill: #1967D2;\n",
              "      height: 32px;\n",
              "      padding: 0 0 0 0;\n",
              "      width: 32px;\n",
              "    }\n",
              "\n",
              "    .colab-df-convert:hover {\n",
              "      background-color: #E2EBFA;\n",
              "      box-shadow: 0px 1px 2px rgba(60, 64, 67, 0.3), 0px 1px 3px 1px rgba(60, 64, 67, 0.15);\n",
              "      fill: #174EA6;\n",
              "    }\n",
              "\n",
              "    .colab-df-buttons div {\n",
              "      margin-bottom: 4px;\n",
              "    }\n",
              "\n",
              "    [theme=dark] .colab-df-convert {\n",
              "      background-color: #3B4455;\n",
              "      fill: #D2E3FC;\n",
              "    }\n",
              "\n",
              "    [theme=dark] .colab-df-convert:hover {\n",
              "      background-color: #434B5C;\n",
              "      box-shadow: 0px 1px 3px 1px rgba(0, 0, 0, 0.15);\n",
              "      filter: drop-shadow(0px 1px 2px rgba(0, 0, 0, 0.3));\n",
              "      fill: #FFFFFF;\n",
              "    }\n",
              "  </style>\n",
              "\n",
              "    <script>\n",
              "      const buttonEl =\n",
              "        document.querySelector('#df-61ead4fb-415c-4959-b378-d48268a60c40 button.colab-df-convert');\n",
              "      buttonEl.style.display =\n",
              "        google.colab.kernel.accessAllowed ? 'block' : 'none';\n",
              "\n",
              "      async function convertToInteractive(key) {\n",
              "        const element = document.querySelector('#df-61ead4fb-415c-4959-b378-d48268a60c40');\n",
              "        const dataTable =\n",
              "          await google.colab.kernel.invokeFunction('convertToInteractive',\n",
              "                                                    [key], {});\n",
              "        if (!dataTable) return;\n",
              "\n",
              "        const docLinkHtml = 'Like what you see? Visit the ' +\n",
              "          '<a target=\"_blank\" href=https://colab.research.google.com/notebooks/data_table.ipynb>data table notebook</a>'\n",
              "          + ' to learn more about interactive tables.';\n",
              "        element.innerHTML = '';\n",
              "        dataTable['output_type'] = 'display_data';\n",
              "        await google.colab.output.renderOutput(dataTable, element);\n",
              "        const docLink = document.createElement('div');\n",
              "        docLink.innerHTML = docLinkHtml;\n",
              "        element.appendChild(docLink);\n",
              "      }\n",
              "    </script>\n",
              "  </div>\n",
              "\n",
              "\n",
              "<div id=\"df-813cccb9-b901-41d8-b1eb-3086bd8ff387\">\n",
              "  <button class=\"colab-df-quickchart\" onclick=\"quickchart('df-813cccb9-b901-41d8-b1eb-3086bd8ff387')\"\n",
              "            title=\"Suggest charts\"\n",
              "            style=\"display:none;\">\n",
              "\n",
              "<svg xmlns=\"http://www.w3.org/2000/svg\" height=\"24px\"viewBox=\"0 0 24 24\"\n",
              "     width=\"24px\">\n",
              "    <g>\n",
              "        <path d=\"M19 3H5c-1.1 0-2 .9-2 2v14c0 1.1.9 2 2 2h14c1.1 0 2-.9 2-2V5c0-1.1-.9-2-2-2zM9 17H7v-7h2v7zm4 0h-2V7h2v10zm4 0h-2v-4h2v4z\"/>\n",
              "    </g>\n",
              "</svg>\n",
              "  </button>\n",
              "\n",
              "<style>\n",
              "  .colab-df-quickchart {\n",
              "      --bg-color: #E8F0FE;\n",
              "      --fill-color: #1967D2;\n",
              "      --hover-bg-color: #E2EBFA;\n",
              "      --hover-fill-color: #174EA6;\n",
              "      --disabled-fill-color: #AAA;\n",
              "      --disabled-bg-color: #DDD;\n",
              "  }\n",
              "\n",
              "  [theme=dark] .colab-df-quickchart {\n",
              "      --bg-color: #3B4455;\n",
              "      --fill-color: #D2E3FC;\n",
              "      --hover-bg-color: #434B5C;\n",
              "      --hover-fill-color: #FFFFFF;\n",
              "      --disabled-bg-color: #3B4455;\n",
              "      --disabled-fill-color: #666;\n",
              "  }\n",
              "\n",
              "  .colab-df-quickchart {\n",
              "    background-color: var(--bg-color);\n",
              "    border: none;\n",
              "    border-radius: 50%;\n",
              "    cursor: pointer;\n",
              "    display: none;\n",
              "    fill: var(--fill-color);\n",
              "    height: 32px;\n",
              "    padding: 0;\n",
              "    width: 32px;\n",
              "  }\n",
              "\n",
              "  .colab-df-quickchart:hover {\n",
              "    background-color: var(--hover-bg-color);\n",
              "    box-shadow: 0 1px 2px rgba(60, 64, 67, 0.3), 0 1px 3px 1px rgba(60, 64, 67, 0.15);\n",
              "    fill: var(--button-hover-fill-color);\n",
              "  }\n",
              "\n",
              "  .colab-df-quickchart-complete:disabled,\n",
              "  .colab-df-quickchart-complete:disabled:hover {\n",
              "    background-color: var(--disabled-bg-color);\n",
              "    fill: var(--disabled-fill-color);\n",
              "    box-shadow: none;\n",
              "  }\n",
              "\n",
              "  .colab-df-spinner {\n",
              "    border: 2px solid var(--fill-color);\n",
              "    border-color: transparent;\n",
              "    border-bottom-color: var(--fill-color);\n",
              "    animation:\n",
              "      spin 1s steps(1) infinite;\n",
              "  }\n",
              "\n",
              "  @keyframes spin {\n",
              "    0% {\n",
              "      border-color: transparent;\n",
              "      border-bottom-color: var(--fill-color);\n",
              "      border-left-color: var(--fill-color);\n",
              "    }\n",
              "    20% {\n",
              "      border-color: transparent;\n",
              "      border-left-color: var(--fill-color);\n",
              "      border-top-color: var(--fill-color);\n",
              "    }\n",
              "    30% {\n",
              "      border-color: transparent;\n",
              "      border-left-color: var(--fill-color);\n",
              "      border-top-color: var(--fill-color);\n",
              "      border-right-color: var(--fill-color);\n",
              "    }\n",
              "    40% {\n",
              "      border-color: transparent;\n",
              "      border-right-color: var(--fill-color);\n",
              "      border-top-color: var(--fill-color);\n",
              "    }\n",
              "    60% {\n",
              "      border-color: transparent;\n",
              "      border-right-color: var(--fill-color);\n",
              "    }\n",
              "    80% {\n",
              "      border-color: transparent;\n",
              "      border-right-color: var(--fill-color);\n",
              "      border-bottom-color: var(--fill-color);\n",
              "    }\n",
              "    90% {\n",
              "      border-color: transparent;\n",
              "      border-bottom-color: var(--fill-color);\n",
              "    }\n",
              "  }\n",
              "</style>\n",
              "\n",
              "  <script>\n",
              "    async function quickchart(key) {\n",
              "      const quickchartButtonEl =\n",
              "        document.querySelector('#' + key + ' button');\n",
              "      quickchartButtonEl.disabled = true;  // To prevent multiple clicks.\n",
              "      quickchartButtonEl.classList.add('colab-df-spinner');\n",
              "      try {\n",
              "        const charts = await google.colab.kernel.invokeFunction(\n",
              "            'suggestCharts', [key], {});\n",
              "      } catch (error) {\n",
              "        console.error('Error during call to suggestCharts:', error);\n",
              "      }\n",
              "      quickchartButtonEl.classList.remove('colab-df-spinner');\n",
              "      quickchartButtonEl.classList.add('colab-df-quickchart-complete');\n",
              "    }\n",
              "    (() => {\n",
              "      let quickchartButtonEl =\n",
              "        document.querySelector('#df-813cccb9-b901-41d8-b1eb-3086bd8ff387 button');\n",
              "      quickchartButtonEl.style.display =\n",
              "        google.colab.kernel.accessAllowed ? 'block' : 'none';\n",
              "    })();\n",
              "  </script>\n",
              "</div>\n",
              "\n",
              "    </div>\n",
              "  </div>\n"
            ],
            "application/vnd.google.colaboratory.intrinsic+json": {
              "type": "dataframe",
              "variable_name": "ex",
              "summary": "{\n  \"name\": \"ex\",\n  \"rows\": 2918,\n  \"fields\": [\n    {\n      \"column\": \"Unnamed: 0\",\n      \"properties\": {\n        \"dtype\": \"number\",\n        \"std\": 842,\n        \"min\": 0,\n        \"max\": 2917,\n        \"num_unique_values\": 2918,\n        \"samples\": [\n          2008,\n          1041,\n          2358\n        ],\n        \"semantic_type\": \"\",\n        \"description\": \"\"\n      }\n    },\n    {\n      \"column\": \"Title\",\n      \"properties\": {\n        \"dtype\": \"string\",\n        \"num_unique_values\": 2909,\n        \"samples\": [\n          \"Peroneals Stretch\",\n          \"FYR2 Glute Bridge Dumbbell Floor Press\",\n          \"Calf Raise On A Dumbbell\"\n        ],\n        \"semantic_type\": \"\",\n        \"description\": \"\"\n      }\n    },\n    {\n      \"column\": \"Desc\",\n      \"properties\": {\n        \"dtype\": \"category\",\n        \"num_unique_values\": 1050,\n        \"samples\": [\n          \"The wall calf stretch is a stretch targeting the calf muscles. This is a simple way to stretch these often-tight muscles without any equipment needed.\",\n          \"The barbell forward lunge is a popular lower-body exercise targeting the quads, glutes, and hamstrings. Using a barbell allows you to overload the exercise beyond body weight and perform the movement in strength or muscle-focused rep ranges. The forward lunge can be performed as part of a barbell complex, in a circuit, or on its own in the lower-body portion of any workout.\",\n          \"The single-arm triceps kick-back is a popular movement to increase size and strength of the triceps. It is usually performed for moderate to high reps, at least 8-12 reps, as part of an upper-body or arm-focused workout.\"\n        ],\n        \"semantic_type\": \"\",\n        \"description\": \"\"\n      }\n    },\n    {\n      \"column\": \"Type\",\n      \"properties\": {\n        \"dtype\": \"category\",\n        \"num_unique_values\": 7,\n        \"samples\": [\n          \"Strength\",\n          \"Plyometrics\",\n          \"Strongman\"\n        ],\n        \"semantic_type\": \"\",\n        \"description\": \"\"\n      }\n    },\n    {\n      \"column\": \"BodyPart\",\n      \"properties\": {\n        \"dtype\": \"category\",\n        \"num_unique_values\": 17,\n        \"samples\": [\n          \"Abdominals\",\n          \"Adductors\",\n          \"Chest\"\n        ],\n        \"semantic_type\": \"\",\n        \"description\": \"\"\n      }\n    },\n    {\n      \"column\": \"Equipment\",\n      \"properties\": {\n        \"dtype\": \"category\",\n        \"num_unique_values\": 12,\n        \"samples\": [\n          \"Foam Roll\",\n          \"Exercise Ball\",\n          \"Bands\"\n        ],\n        \"semantic_type\": \"\",\n        \"description\": \"\"\n      }\n    },\n    {\n      \"column\": \"Level\",\n      \"properties\": {\n        \"dtype\": \"category\",\n        \"num_unique_values\": 3,\n        \"samples\": [\n          \"Intermediate\",\n          \"Beginner\",\n          \"Expert\"\n        ],\n        \"semantic_type\": \"\",\n        \"description\": \"\"\n      }\n    },\n    {\n      \"column\": \"Rating\",\n      \"properties\": {\n        \"dtype\": \"number\",\n        \"std\": 3.5846070996570236,\n        \"min\": 0.0,\n        \"max\": 9.6,\n        \"num_unique_values\": 72,\n        \"samples\": [\n          7.0,\n          3.1,\n          8.1\n        ],\n        \"semantic_type\": \"\",\n        \"description\": \"\"\n      }\n    },\n    {\n      \"column\": \"RatingDesc\",\n      \"properties\": {\n        \"dtype\": \"category\",\n        \"num_unique_values\": 1,\n        \"samples\": [\n          \"Average\"\n        ],\n        \"semantic_type\": \"\",\n        \"description\": \"\"\n      }\n    }\n  ]\n}"
            }
          },
          "metadata": {},
          "execution_count": 4
        }
      ]
    },
    {
      "cell_type": "code",
      "source": [
        "ex = ex.rename(columns={'Unnamed: 0': 'ExNo'})"
      ],
      "metadata": {
        "id": "TNB2Iip9KFxA"
      },
      "execution_count": 5,
      "outputs": []
    },
    {
      "cell_type": "code",
      "source": [
        "ex.shape"
      ],
      "metadata": {
        "colab": {
          "base_uri": "https://localhost:8080/"
        },
        "id": "wVbpbmHSGYlD",
        "outputId": "027dbb97-f899-4ed9-ec89-4d060a620911"
      },
      "execution_count": 6,
      "outputs": [
        {
          "output_type": "execute_result",
          "data": {
            "text/plain": [
              "(2918, 9)"
            ]
          },
          "metadata": {},
          "execution_count": 6
        }
      ]
    },
    {
      "cell_type": "code",
      "source": [
        "ex.isna().sum()"
      ],
      "metadata": {
        "colab": {
          "base_uri": "https://localhost:8080/",
          "height": 366
        },
        "id": "z6OoRQ_JGPC5",
        "outputId": "8b9415bf-634c-4780-e4cd-b8478f093854"
      },
      "execution_count": 7,
      "outputs": [
        {
          "output_type": "execute_result",
          "data": {
            "text/plain": [
              "ExNo             0\n",
              "Title            0\n",
              "Desc          1550\n",
              "Type             0\n",
              "BodyPart         0\n",
              "Equipment       32\n",
              "Level            0\n",
              "Rating        1887\n",
              "RatingDesc    2056\n",
              "dtype: int64"
            ],
            "text/html": [
              "<div>\n",
              "<style scoped>\n",
              "    .dataframe tbody tr th:only-of-type {\n",
              "        vertical-align: middle;\n",
              "    }\n",
              "\n",
              "    .dataframe tbody tr th {\n",
              "        vertical-align: top;\n",
              "    }\n",
              "\n",
              "    .dataframe thead th {\n",
              "        text-align: right;\n",
              "    }\n",
              "</style>\n",
              "<table border=\"1\" class=\"dataframe\">\n",
              "  <thead>\n",
              "    <tr style=\"text-align: right;\">\n",
              "      <th></th>\n",
              "      <th>0</th>\n",
              "    </tr>\n",
              "  </thead>\n",
              "  <tbody>\n",
              "    <tr>\n",
              "      <th>ExNo</th>\n",
              "      <td>0</td>\n",
              "    </tr>\n",
              "    <tr>\n",
              "      <th>Title</th>\n",
              "      <td>0</td>\n",
              "    </tr>\n",
              "    <tr>\n",
              "      <th>Desc</th>\n",
              "      <td>1550</td>\n",
              "    </tr>\n",
              "    <tr>\n",
              "      <th>Type</th>\n",
              "      <td>0</td>\n",
              "    </tr>\n",
              "    <tr>\n",
              "      <th>BodyPart</th>\n",
              "      <td>0</td>\n",
              "    </tr>\n",
              "    <tr>\n",
              "      <th>Equipment</th>\n",
              "      <td>32</td>\n",
              "    </tr>\n",
              "    <tr>\n",
              "      <th>Level</th>\n",
              "      <td>0</td>\n",
              "    </tr>\n",
              "    <tr>\n",
              "      <th>Rating</th>\n",
              "      <td>1887</td>\n",
              "    </tr>\n",
              "    <tr>\n",
              "      <th>RatingDesc</th>\n",
              "      <td>2056</td>\n",
              "    </tr>\n",
              "  </tbody>\n",
              "</table>\n",
              "</div><br><label><b>dtype:</b> int64</label>"
            ]
          },
          "metadata": {},
          "execution_count": 7
        }
      ]
    },
    {
      "cell_type": "code",
      "source": [
        "ex.Level.value_counts()"
      ],
      "metadata": {
        "colab": {
          "base_uri": "https://localhost:8080/",
          "height": 209
        },
        "id": "tskN5u1nH_g_",
        "outputId": "4572747a-b46d-47c2-db5c-c27a1e179de4"
      },
      "execution_count": 8,
      "outputs": [
        {
          "output_type": "execute_result",
          "data": {
            "text/plain": [
              "Level\n",
              "Intermediate    2446\n",
              "Beginner         459\n",
              "Expert            13\n",
              "Name: count, dtype: int64"
            ],
            "text/html": [
              "<div>\n",
              "<style scoped>\n",
              "    .dataframe tbody tr th:only-of-type {\n",
              "        vertical-align: middle;\n",
              "    }\n",
              "\n",
              "    .dataframe tbody tr th {\n",
              "        vertical-align: top;\n",
              "    }\n",
              "\n",
              "    .dataframe thead th {\n",
              "        text-align: right;\n",
              "    }\n",
              "</style>\n",
              "<table border=\"1\" class=\"dataframe\">\n",
              "  <thead>\n",
              "    <tr style=\"text-align: right;\">\n",
              "      <th></th>\n",
              "      <th>count</th>\n",
              "    </tr>\n",
              "    <tr>\n",
              "      <th>Level</th>\n",
              "      <th></th>\n",
              "    </tr>\n",
              "  </thead>\n",
              "  <tbody>\n",
              "    <tr>\n",
              "      <th>Intermediate</th>\n",
              "      <td>2446</td>\n",
              "    </tr>\n",
              "    <tr>\n",
              "      <th>Beginner</th>\n",
              "      <td>459</td>\n",
              "    </tr>\n",
              "    <tr>\n",
              "      <th>Expert</th>\n",
              "      <td>13</td>\n",
              "    </tr>\n",
              "  </tbody>\n",
              "</table>\n",
              "</div><br><label><b>dtype:</b> int64</label>"
            ]
          },
          "metadata": {},
          "execution_count": 8
        }
      ]
    },
    {
      "cell_type": "code",
      "source": [
        "ex.Type.value_counts()"
      ],
      "metadata": {
        "colab": {
          "base_uri": "https://localhost:8080/",
          "height": 335
        },
        "id": "f0sOw9ScIJWs",
        "outputId": "6426cb00-c20a-4e20-e0e7-e19111d0d756"
      },
      "execution_count": 9,
      "outputs": [
        {
          "output_type": "execute_result",
          "data": {
            "text/plain": [
              "Type\n",
              "Strength                 2545\n",
              "Stretching                147\n",
              "Plyometrics                97\n",
              "Powerlifting               37\n",
              "Cardio                     35\n",
              "Olympic Weightlifting      35\n",
              "Strongman                  22\n",
              "Name: count, dtype: int64"
            ],
            "text/html": [
              "<div>\n",
              "<style scoped>\n",
              "    .dataframe tbody tr th:only-of-type {\n",
              "        vertical-align: middle;\n",
              "    }\n",
              "\n",
              "    .dataframe tbody tr th {\n",
              "        vertical-align: top;\n",
              "    }\n",
              "\n",
              "    .dataframe thead th {\n",
              "        text-align: right;\n",
              "    }\n",
              "</style>\n",
              "<table border=\"1\" class=\"dataframe\">\n",
              "  <thead>\n",
              "    <tr style=\"text-align: right;\">\n",
              "      <th></th>\n",
              "      <th>count</th>\n",
              "    </tr>\n",
              "    <tr>\n",
              "      <th>Type</th>\n",
              "      <th></th>\n",
              "    </tr>\n",
              "  </thead>\n",
              "  <tbody>\n",
              "    <tr>\n",
              "      <th>Strength</th>\n",
              "      <td>2545</td>\n",
              "    </tr>\n",
              "    <tr>\n",
              "      <th>Stretching</th>\n",
              "      <td>147</td>\n",
              "    </tr>\n",
              "    <tr>\n",
              "      <th>Plyometrics</th>\n",
              "      <td>97</td>\n",
              "    </tr>\n",
              "    <tr>\n",
              "      <th>Powerlifting</th>\n",
              "      <td>37</td>\n",
              "    </tr>\n",
              "    <tr>\n",
              "      <th>Cardio</th>\n",
              "      <td>35</td>\n",
              "    </tr>\n",
              "    <tr>\n",
              "      <th>Olympic Weightlifting</th>\n",
              "      <td>35</td>\n",
              "    </tr>\n",
              "    <tr>\n",
              "      <th>Strongman</th>\n",
              "      <td>22</td>\n",
              "    </tr>\n",
              "  </tbody>\n",
              "</table>\n",
              "</div><br><label><b>dtype:</b> int64</label>"
            ]
          },
          "metadata": {},
          "execution_count": 9
        }
      ]
    },
    {
      "cell_type": "code",
      "source": [
        "ex.BodyPart.value_counts()"
      ],
      "metadata": {
        "colab": {
          "base_uri": "https://localhost:8080/",
          "height": 648
        },
        "id": "QaCJrwgWIggv",
        "outputId": "40be3d9a-d557-4222-a8fa-d907363494f9"
      },
      "execution_count": 10,
      "outputs": [
        {
          "output_type": "execute_result",
          "data": {
            "text/plain": [
              "BodyPart\n",
              "Abdominals     662\n",
              "Quadriceps     646\n",
              "Shoulders      340\n",
              "Chest          262\n",
              "Biceps         168\n",
              "Triceps        151\n",
              "Lats           124\n",
              "Hamstrings     121\n",
              "Middle Back    118\n",
              "Lower Back      97\n",
              "Glutes          81\n",
              "Calves          47\n",
              "Forearms        31\n",
              "Traps           24\n",
              "Abductors       21\n",
              "Adductors       17\n",
              "Neck             8\n",
              "Name: count, dtype: int64"
            ],
            "text/html": [
              "<div>\n",
              "<style scoped>\n",
              "    .dataframe tbody tr th:only-of-type {\n",
              "        vertical-align: middle;\n",
              "    }\n",
              "\n",
              "    .dataframe tbody tr th {\n",
              "        vertical-align: top;\n",
              "    }\n",
              "\n",
              "    .dataframe thead th {\n",
              "        text-align: right;\n",
              "    }\n",
              "</style>\n",
              "<table border=\"1\" class=\"dataframe\">\n",
              "  <thead>\n",
              "    <tr style=\"text-align: right;\">\n",
              "      <th></th>\n",
              "      <th>count</th>\n",
              "    </tr>\n",
              "    <tr>\n",
              "      <th>BodyPart</th>\n",
              "      <th></th>\n",
              "    </tr>\n",
              "  </thead>\n",
              "  <tbody>\n",
              "    <tr>\n",
              "      <th>Abdominals</th>\n",
              "      <td>662</td>\n",
              "    </tr>\n",
              "    <tr>\n",
              "      <th>Quadriceps</th>\n",
              "      <td>646</td>\n",
              "    </tr>\n",
              "    <tr>\n",
              "      <th>Shoulders</th>\n",
              "      <td>340</td>\n",
              "    </tr>\n",
              "    <tr>\n",
              "      <th>Chest</th>\n",
              "      <td>262</td>\n",
              "    </tr>\n",
              "    <tr>\n",
              "      <th>Biceps</th>\n",
              "      <td>168</td>\n",
              "    </tr>\n",
              "    <tr>\n",
              "      <th>Triceps</th>\n",
              "      <td>151</td>\n",
              "    </tr>\n",
              "    <tr>\n",
              "      <th>Lats</th>\n",
              "      <td>124</td>\n",
              "    </tr>\n",
              "    <tr>\n",
              "      <th>Hamstrings</th>\n",
              "      <td>121</td>\n",
              "    </tr>\n",
              "    <tr>\n",
              "      <th>Middle Back</th>\n",
              "      <td>118</td>\n",
              "    </tr>\n",
              "    <tr>\n",
              "      <th>Lower Back</th>\n",
              "      <td>97</td>\n",
              "    </tr>\n",
              "    <tr>\n",
              "      <th>Glutes</th>\n",
              "      <td>81</td>\n",
              "    </tr>\n",
              "    <tr>\n",
              "      <th>Calves</th>\n",
              "      <td>47</td>\n",
              "    </tr>\n",
              "    <tr>\n",
              "      <th>Forearms</th>\n",
              "      <td>31</td>\n",
              "    </tr>\n",
              "    <tr>\n",
              "      <th>Traps</th>\n",
              "      <td>24</td>\n",
              "    </tr>\n",
              "    <tr>\n",
              "      <th>Abductors</th>\n",
              "      <td>21</td>\n",
              "    </tr>\n",
              "    <tr>\n",
              "      <th>Adductors</th>\n",
              "      <td>17</td>\n",
              "    </tr>\n",
              "    <tr>\n",
              "      <th>Neck</th>\n",
              "      <td>8</td>\n",
              "    </tr>\n",
              "  </tbody>\n",
              "</table>\n",
              "</div><br><label><b>dtype:</b> int64</label>"
            ]
          },
          "metadata": {},
          "execution_count": 10
        }
      ]
    },
    {
      "cell_type": "code",
      "source": [
        "ex_for_analysis = ex.copy()"
      ],
      "metadata": {
        "id": "4nBdaPS7KByz"
      },
      "execution_count": 11,
      "outputs": []
    },
    {
      "cell_type": "code",
      "source": [
        "ex.columns"
      ],
      "metadata": {
        "colab": {
          "base_uri": "https://localhost:8080/"
        },
        "id": "vBQPQApSKkwh",
        "outputId": "cee48086-959d-41d8-ec51-97f35bff1522"
      },
      "execution_count": 12,
      "outputs": [
        {
          "output_type": "execute_result",
          "data": {
            "text/plain": [
              "Index(['ExNo', 'Title', 'Desc', 'Type', 'BodyPart', 'Equipment', 'Level',\n",
              "       'Rating', 'RatingDesc'],\n",
              "      dtype='object')"
            ]
          },
          "metadata": {},
          "execution_count": 12
        }
      ]
    },
    {
      "cell_type": "code",
      "source": [
        "ex_for_analysis = ex.drop(['Title',  'Desc', 'Rating', 'RatingDesc', 'Desc', 'Equipment'], axis=1)"
      ],
      "metadata": {
        "id": "MNE1UX8bKE2a"
      },
      "execution_count": 13,
      "outputs": []
    },
    {
      "cell_type": "code",
      "source": [
        "ex_for_analysis.columns"
      ],
      "metadata": {
        "colab": {
          "base_uri": "https://localhost:8080/"
        },
        "id": "vb2sMU5GK09i",
        "outputId": "c939c480-7194-46ea-8b36-0379f947d019"
      },
      "execution_count": 14,
      "outputs": [
        {
          "output_type": "execute_result",
          "data": {
            "text/plain": [
              "Index(['ExNo', 'Type', 'BodyPart', 'Level'], dtype='object')"
            ]
          },
          "metadata": {},
          "execution_count": 14
        }
      ]
    },
    {
      "cell_type": "markdown",
      "source": [
        "#Synthetically generating data\n"
      ],
      "metadata": {
        "id": "vEbCH6suH2mR"
      }
    },
    {
      "cell_type": "code",
      "source": [
        "random.seed(42)"
      ],
      "metadata": {
        "id": "OWKR4PMqVIOu"
      },
      "execution_count": 15,
      "outputs": []
    },
    {
      "cell_type": "code",
      "source": [
        "fitness_goal_to_exercise_type = {\n",
        "    'Weight loss': ['Cardio', 'Strength', 'HIIT'],\n",
        "    'Muscle gain': ['Strength', 'Powerlifting', 'Olympic Weightlifting'],\n",
        "    'Endurance': ['Cardio', 'Plyometrics', 'Strength'],\n",
        "    'General fitness': ['Strength', 'Cardio', 'Yoga', 'Plyometrics']\n",
        "}\n",
        "\n",
        "secondary_goal_to_exercise_type = {\n",
        "    'Flexibility': ['Stretching', 'Yoga', 'Pilates'],\n",
        "    'Balance': ['Yoga', 'Pilates', 'Strength'],\n",
        "    'Stress reduction': ['Yoga', 'Stretching', 'Cardio'],\n",
        "    'Posture correction': ['Strength', 'Yoga', 'Stretching'],\n",
        "    'Agility': ['Plyometrics', 'Strength', 'Cardio']\n",
        "}\n",
        "\n",
        "fitness_goal_to_secondary_goal = {\n",
        "    'Weight loss': ['Flexibility', 'Balance', 'Stress reduction'],\n",
        "    'Muscle gain': ['Flexibility', 'Agility', 'Posture correction'],\n",
        "    'Endurance': ['Stress reduction', 'Flexibility', 'Balance'],\n",
        "    'General fitness': ['Flexibility', 'Balance', 'Stress reduction']\n",
        "}\n",
        "\n",
        "exercise_type_to_body_parts = {\n",
        "    'Strength': ['Chest', 'Biceps', 'Triceps', 'Shoulders', 'Quadriceps', 'Hamstrings', 'Glutes'],\n",
        "    'Stretching': ['Shoulders', 'Hamstrings', 'Lower Back', 'Glutes', 'Abdominals'],\n",
        "    'Plyometrics': ['Legs', 'Glutes', 'Core'],\n",
        "    'Powerlifting': ['Chest', 'Shoulders', 'Legs', 'Back'],\n",
        "    'Cardio': ['Legs', 'Full body'],\n",
        "    'Olympic Weightlifting': ['Shoulders', 'Legs', 'Back'],\n",
        "    'Strongman': ['Full body', 'Legs', 'Back', 'Shoulders']\n",
        "}\n"
      ],
      "metadata": {
        "id": "s6aepHrLMj5V"
      },
      "execution_count": 16,
      "outputs": []
    },
    {
      "cell_type": "code",
      "source": [
        "ex_type_dict = ex_for_analysis.groupby('Type')['ExNo'].apply(list).to_dict()\n",
        "for i in ex_type_dict:\n",
        "  print(f'{i}: {ex_type_dict[i]}')\n"
      ],
      "metadata": {
        "colab": {
          "base_uri": "https://localhost:8080/"
        },
        "id": "EG8MAjT2NEgx",
        "outputId": "04f6b670-2443-45b2-9e42-17c453e49688"
      },
      "execution_count": 17,
      "outputs": [
        {
          "output_type": "stream",
          "name": "stdout",
          "text": [
            "Cardio: [149, 349, 884, 993, 1337, 1729, 2000, 2002, 2030, 2031, 2066, 2068, 2071, 2075, 2076, 2077, 2078, 2118, 2123, 2124, 2130, 2134, 2159, 2165, 2167, 2169, 2171, 2175, 2176, 2177, 2191, 2207, 2235, 2738, 2739]\n",
            "Olympic Weightlifting: [1217, 1293, 1295, 1296, 1297, 1298, 1300, 1301, 1302, 1313, 1314, 1315, 1753, 1754, 1798, 1801, 1802, 1803, 1805, 1816, 1820, 1821, 1825, 1827, 1831, 1834, 1841, 1842, 1846, 1847, 2449, 2464, 2465, 2467, 2469]\n",
            "Plyometrics: [96, 196, 232, 248, 623, 624, 668, 676, 681, 683, 971, 976, 980, 985, 988, 991, 1098, 1099, 1102, 1103, 1104, 1158, 1164, 1165, 1168, 1331, 1335, 1336, 1341, 1369, 1370, 1373, 1380, 1382, 1516, 1528, 1529, 1881, 1921, 1928, 1933, 1998, 2006, 2008, 2015, 2017, 2019, 2021, 2022, 2023, 2024, 2025, 2120, 2122, 2125, 2126, 2129, 2131, 2132, 2136, 2137, 2138, 2139, 2140, 2153, 2154, 2155, 2157, 2158, 2160, 2161, 2162, 2168, 2170, 2172, 2173, 2174, 2178, 2179, 2180, 2181, 2182, 2183, 2184, 2185, 2192, 2414, 2418, 2421, 2424, 2735, 2740, 2757, 2758, 2759, 2765, 2910]\n",
            "Powerlifting: [917, 935, 1160, 1209, 1214, 1215, 1216, 1289, 1294, 1303, 1306, 1307, 1308, 1311, 1312, 1349, 1538, 1539, 1540, 1541, 1542, 1543, 1545, 1787, 1800, 1807, 1809, 1845, 1848, 2774, 2778, 2779, 2781, 2784, 2785, 2791, 2825]\n",
            "Strength: [0, 1, 2, 3, 4, 5, 6, 7, 8, 9, 10, 11, 12, 13, 14, 15, 16, 17, 18, 19, 20, 21, 22, 23, 24, 25, 26, 27, 28, 29, 30, 31, 32, 33, 34, 35, 36, 37, 38, 39, 40, 41, 42, 43, 44, 45, 46, 47, 48, 49, 50, 51, 52, 53, 54, 55, 56, 57, 58, 59, 60, 61, 62, 63, 64, 65, 66, 67, 68, 69, 70, 71, 72, 73, 74, 75, 76, 77, 78, 79, 80, 81, 82, 83, 84, 85, 86, 87, 88, 89, 90, 91, 92, 93, 94, 95, 97, 98, 99, 100, 101, 102, 103, 104, 105, 106, 107, 108, 109, 110, 111, 112, 113, 114, 115, 116, 117, 118, 119, 120, 121, 122, 123, 124, 125, 126, 127, 128, 129, 130, 131, 132, 133, 134, 135, 136, 137, 138, 139, 140, 141, 142, 143, 144, 145, 146, 147, 148, 150, 151, 152, 153, 154, 155, 156, 157, 158, 159, 160, 161, 162, 163, 164, 165, 166, 167, 168, 169, 170, 171, 172, 173, 174, 175, 176, 177, 178, 179, 180, 181, 182, 183, 184, 185, 186, 187, 188, 189, 190, 191, 192, 193, 194, 195, 197, 198, 199, 200, 201, 202, 203, 205, 206, 207, 208, 209, 210, 211, 212, 213, 214, 215, 216, 217, 218, 219, 226, 227, 228, 229, 230, 231, 233, 234, 235, 236, 237, 238, 239, 240, 241, 242, 243, 244, 245, 246, 247, 249, 251, 252, 253, 255, 256, 257, 258, 259, 260, 261, 262, 263, 264, 265, 266, 267, 268, 269, 270, 271, 272, 273, 274, 275, 276, 277, 278, 279, 280, 281, 282, 283, 284, 285, 286, 287, 288, 289, 290, 291, 292, 293, 294, 295, 296, 297, 298, 299, 300, 301, 302, 303, 304, 305, 306, 307, 308, 309, 310, 311, 312, 313, 314, 315, 316, 317, 318, 319, 320, 321, 322, 323, 324, 325, 326, 327, 328, 329, 330, 331, 332, 333, 334, 335, 336, 337, 338, 339, 340, 341, 343, 344, 345, 346, 347, 348, 350, 351, 352, 353, 354, 355, 356, 357, 358, 359, 360, 361, 362, 363, 364, 365, 366, 367, 368, 369, 370, 371, 372, 373, 374, 375, 376, 377, 378, 379, 380, 381, 382, 383, 384, 385, 386, 387, 388, 389, 390, 391, 392, 393, 394, 395, 396, 397, 398, 399, 400, 401, 402, 403, 404, 405, 406, 407, 408, 409, 410, 411, 412, 413, 414, 415, 416, 417, 418, 419, 420, 421, 422, 423, 424, 425, 426, 427, 428, 429, 430, 431, 432, 433, 434, 435, 436, 437, 438, 439, 440, 441, 442, 443, 444, 445, 446, 447, 448, 449, 450, 451, 452, 453, 454, 455, 456, 457, 458, 459, 460, 461, 462, 463, 464, 465, 466, 467, 468, 469, 470, 471, 472, 473, 474, 475, 476, 477, 478, 479, 480, 481, 482, 483, 484, 485, 486, 487, 488, 489, 490, 491, 492, 493, 494, 495, 496, 497, 498, 499, 500, 501, 502, 503, 504, 505, 506, 507, 508, 509, 510, 511, 512, 513, 514, 515, 516, 517, 518, 519, 520, 521, 522, 523, 524, 525, 526, 527, 528, 529, 530, 531, 532, 533, 534, 535, 536, 537, 538, 539, 540, 541, 542, 543, 544, 545, 546, 547, 548, 549, 550, 551, 552, 553, 554, 555, 556, 557, 558, 559, 560, 561, 562, 563, 564, 565, 566, 567, 568, 569, 570, 571, 572, 573, 574, 575, 576, 577, 578, 579, 580, 581, 582, 583, 584, 585, 586, 587, 588, 589, 590, 591, 592, 593, 594, 595, 596, 597, 598, 599, 600, 601, 602, 603, 604, 605, 606, 607, 608, 609, 610, 611, 612, 613, 614, 615, 616, 617, 618, 619, 620, 621, 622, 625, 626, 627, 628, 629, 630, 631, 632, 633, 634, 635, 636, 637, 638, 639, 640, 641, 642, 643, 644, 645, 646, 647, 648, 649, 650, 651, 652, 653, 654, 655, 656, 657, 658, 659, 660, 661, 662, 663, 664, 669, 670, 673, 677, 684, 685, 686, 687, 688, 692, 693, 694, 695, 696, 697, 700, 701, 702, 703, 705, 706, 707, 708, 709, 710, 711, 712, 713, 714, 715, 716, 717, 718, 719, 720, 721, 722, 723, 724, 725, 726, 727, 728, 729, 730, 731, 732, 733, 734, 735, 736, 737, 738, 739, 740, 741, 742, 743, 744, 745, 746, 747, 748, 749, 750, 751, 752, 753, 754, 755, 756, 757, 758, 759, 760, 761, 762, 763, 764, 765, 766, 767, 768, 769, 770, 771, 772, 773, 774, 775, 776, 777, 778, 779, 780, 781, 782, 783, 784, 785, 786, 787, 788, 789, 790, 791, 792, 793, 794, 795, 796, 797, 798, 799, 800, 801, 802, 803, 804, 805, 806, 807, 808, 809, 810, 812, 813, 814, 815, 816, 817, 818, 819, 820, 821, 822, 823, 824, 825, 826, 827, 828, 829, 830, 831, 832, 833, 834, 835, 836, 837, 838, 839, 840, 841, 842, 843, 844, 845, 846, 847, 848, 849, 850, 851, 853, 854, 855, 856, 857, 858, 859, 860, 861, 862, 863, 864, 865, 866, 867, 868, 872, 873, 874, 875, 876, 877, 878, 879, 880, 881, 885, 886, 887, 888, 889, 890, 891, 892, 893, 894, 895, 896, 897, 898, 899, 900, 901, 902, 903, 909, 910, 911, 915, 916, 918, 919, 920, 921, 922, 923, 924, 925, 926, 927, 928, 929, 930, 931, 932, 933, 934, 936, 937, 938, 939, 940, 941, 942, 943, 944, 945, 946, 947, 948, 949, 950, 951, 952, 953, 954, 955, 956, 957, 958, 959, 960, 961, 962, 963, 964, 965, 966, 967, 968, 969, 970, 972, 973, 974, 975, 977, 978, 979, 981, 982, 983, 984, 986, 987, 989, 990, 992, 994, 995, 996, 997, 998, 999, 1000, 1001, 1002, 1003, 1004, 1005, 1006, 1007, 1008, 1009, 1010, 1011, 1012, 1013, 1014, 1015, 1016, 1017, 1018, 1019, 1020, 1021, 1022, 1023, 1024, 1025, 1026, 1027, 1028, 1029, 1030, 1031, 1032, 1033, 1034, 1035, 1036, 1037, 1038, 1039, 1040, 1041, 1042, 1043, 1044, 1045, 1046, 1047, 1048, 1049, 1050, 1051, 1052, 1053, 1054, 1055, 1056, 1057, 1058, 1059, 1060, 1061, 1062, 1063, 1064, 1065, 1066, 1067, 1068, 1069, 1070, 1071, 1072, 1073, 1074, 1075, 1076, 1077, 1078, 1079, 1080, 1081, 1082, 1083, 1084, 1085, 1086, 1087, 1088, 1089, 1090, 1091, 1092, 1093, 1094, 1095, 1096, 1097, 1100, 1101, 1105, 1106, 1107, 1108, 1109, 1110, 1111, 1112, 1113, 1114, 1115, 1116, 1117, 1118, 1119, 1120, 1121, 1122, 1123, 1124, 1125, 1126, 1127, 1128, 1129, 1130, 1131, 1132, 1133, 1134, 1135, 1136, 1137, 1138, 1139, 1140, 1141, 1142, 1143, 1144, 1145, 1146, 1147, 1148, 1149, 1150, 1151, 1152, 1153, 1154, 1155, 1156, 1157, 1163, 1166, 1167, 1169, 1170, 1171, 1172, 1173, 1175, 1176, 1177, 1178, 1179, 1180, 1181, 1182, 1183, 1184, 1185, 1186, 1187, 1188, 1189, 1190, 1191, 1192, 1193, 1194, 1197, 1198, 1199, 1200, 1201, 1202, 1203, 1204, 1205, 1208, 1210, 1211, 1212, 1218, 1219, 1220, 1221, 1222, 1223, 1224, 1225, 1226, 1227, 1228, 1229, 1230, 1231, 1232, 1233, 1234, 1235, 1236, 1243, 1244, 1245, 1246, 1247, 1248, 1250, 1251, 1252, 1254, 1255, 1256, 1257, 1258, 1259, 1260, 1261, 1262, 1263, 1264, 1265, 1266, 1267, 1268, 1269, 1270, 1271, 1272, 1273, 1274, 1275, 1276, 1277, 1278, 1279, 1280, 1281, 1282, 1283, 1284, 1285, 1286, 1287, 1288, 1292, 1299, 1304, 1305, 1309, 1310, 1316, 1317, 1318, 1319, 1320, 1321, 1322, 1323, 1324, 1325, 1326, 1327, 1328, 1329, 1330, 1332, 1333, 1334, 1340, 1344, 1345, 1346, 1347, 1348, 1350, 1351, 1352, 1353, 1354, 1355, 1356, 1357, 1358, 1359, 1360, 1361, 1362, 1363, 1364, 1365, 1366, 1367, 1378, 1386, 1389, 1390, 1392, 1393, 1394, 1395, 1396, 1397, 1398, 1399, 1400, 1401, 1402, 1408, 1409, 1410, 1411, 1412, 1413, 1414, 1415, 1416, 1418, 1419, 1420, 1421, 1422, 1423, 1424, 1425, 1426, 1427, 1428, 1429, 1430, 1431, 1432, 1433, 1434, 1435, 1436, 1437, 1438, 1439, 1440, 1441, 1442, 1443, 1444, 1445, 1446, 1447, 1448, 1449, 1450, 1451, 1452, 1453, 1454, 1456, 1457, 1458, 1459, 1460, 1461, 1462, 1463, 1464, 1465, 1466, 1467, 1468, 1469, 1470, 1471, 1472, 1473, 1474, 1475, 1476, 1477, 1478, 1479, 1480, 1481, 1482, 1483, 1484, 1485, 1486, 1487, 1488, 1489, 1490, 1491, 1492, 1493, 1494, 1495, 1496, 1497, 1498, 1499, 1500, 1501, 1502, 1503, 1504, 1505, 1506, 1507, 1508, 1509, 1510, 1511, 1512, 1517, 1518, 1519, 1520, 1521, 1522, 1523, 1524, 1525, 1526, 1527, 1530, 1534, 1535, 1536, 1544, 1546, 1547, 1548, 1549, 1550, 1551, 1552, 1553, 1554, 1555, 1556, 1557, 1558, 1559, 1560, 1561, 1562, 1563, 1564, 1565, 1566, 1567, 1568, 1569, 1570, 1571, 1572, 1573, 1574, 1575, 1576, 1580, 1582, 1583, 1584, 1585, 1586, 1587, 1588, 1589, 1590, 1591, 1592, 1593, 1594, 1601, 1603, 1604, 1605, 1606, 1607, 1609, 1610, 1611, 1612, 1613, 1614, 1615, 1616, 1617, 1618, 1619, 1620, 1621, 1622, 1623, 1628, 1629, 1630, 1631, 1632, 1633, 1634, 1635, 1636, 1637, 1638, 1639, 1640, 1641, 1642, 1643, 1644, 1645, 1646, 1647, 1648, 1649, 1650, 1651, 1652, 1653, 1654, 1655, 1656, 1657, 1658, 1659, 1660, 1661, 1662, 1663, 1664, 1665, 1666, 1667, 1668, 1669, 1670, 1671, 1672, 1673, 1674, 1675, 1676, 1677, 1678, 1679, 1680, 1681, 1682, 1683, 1684, 1685, 1686, 1687, 1688, 1689, 1690, 1691, 1692, 1693, 1694, 1695, 1696, 1697, 1698, 1699, 1700, 1701, 1702, 1703, 1704, 1705, 1706, 1707, 1708, 1709, 1710, 1711, 1712, 1713, 1714, 1715, 1716, 1717, 1718, 1719, 1720, 1721, 1722, 1723, 1724, 1725, 1726, 1727, 1728, 1730, 1731, 1732, 1733, 1734, 1735, 1736, 1737, 1742, 1743, 1744, 1745, 1746, 1747, 1748, 1749, 1750, 1751, 1752, 1755, 1756, 1757, 1758, 1759, 1760, 1761, 1762, 1763, 1764, 1765, 1766, 1767, 1768, 1769, 1770, 1771, 1772, 1773, 1774, 1775, 1776, 1777, 1780, 1781, 1782, 1783, 1784, 1785, 1786, 1788, 1789, 1790, 1791, 1792, 1793, 1794, 1795, 1796, 1799, 1804, 1806, 1808, 1810, 1811, 1812, 1813, 1814, 1815, 1817, 1818, 1819, 1822, 1823, 1824, 1826, 1828, 1829, 1830, 1832, 1833, 1835, 1836, 1837, 1838, 1839, 1840, 1843, 1844, 1849, 1850, 1851, 1852, 1853, 1854, 1855, 1856, 1857, 1858, 1859, 1860, 1861, 1862, 1863, 1864, 1865, 1866, 1867, 1868, 1869, 1870, 1871, 1872, 1873, 1874, 1875, 1876, 1877, 1878, 1879, 1880, 1882, 1883, 1884, 1885, 1886, 1887, 1888, 1889, 1890, 1891, 1892, 1893, 1894, 1895, 1896, 1897, 1898, 1899, 1900, 1901, 1902, 1903, 1904, 1905, 1906, 1907, 1908, 1909, 1910, 1911, 1912, 1913, 1914, 1915, 1916, 1917, 1918, 1919, 1920, 1922, 1923, 1924, 1925, 1926, 1927, 1929, 1930, 1931, 1932, 1934, 1935, 1936, 1937, 1938, 1939, 1940, 1941, 1942, 1943, 1944, 1945, 1946, 1947, 1948, 1949, 1950, 1951, 1952, 1953, 1954, 1955, 1956, 1957, 1958, 1959, 1960, 1961, 1962, 1963, 1964, 1965, 1966, 1967, 1968, 1969, 1970, 1971, 1972, 1973, 1974, 1975, 1976, 1977, 1978, 1979, 1980, 1981, 1982, 1983, 1984, 1985, 1986, 1987, 1988, 1989, 1990, 1991, 1992, 1993, 1994, 1995, 1996, 2001, 2003, 2004, 2007, 2011, 2012, 2016, 2027, 2029, 2032, 2033, 2034, 2035, 2036, 2037, 2038, 2039, 2040, 2041, 2042, 2043, 2044, 2045, 2046, 2047, 2048, 2049, 2050, 2051, 2052, 2053, 2054, 2055, 2056, 2057, 2058, 2059, 2060, 2061, 2062, 2063, 2064, 2065, 2067, 2069, 2070, 2072, 2073, 2074, 2079, 2080, 2081, 2082, 2083, 2084, 2085, 2086, 2087, 2088, 2089, 2090, 2091, 2092, 2093, 2094, 2095, 2096, 2097, 2098, 2099, 2100, 2101, 2102, 2103, 2104, 2105, 2106, 2107, 2108, 2109, 2110, 2111, 2112, 2113, 2114, 2115, 2116, 2117, 2119, 2121, 2127, 2128, 2133, 2135, 2152, 2156, 2163, 2166, 2186, 2188, 2189, 2190, 2193, 2194, 2195, 2196, 2197, 2198, 2199, 2200, 2201, 2202, 2203, 2204, 2205, 2206, 2208, 2209, 2210, 2211, 2212, 2213, 2214, 2215, 2216, 2217, 2218, 2219, 2220, 2221, 2222, 2223, 2224, 2225, 2226, 2227, 2228, 2229, 2230, 2231, 2233, 2234, 2236, 2237, 2238, 2239, 2240, 2241, 2242, 2243, 2244, 2245, 2246, 2247, 2248, 2249, 2250, 2251, 2252, 2253, 2254, 2255, 2256, 2257, 2258, 2259, 2260, 2261, 2262, 2263, 2264, 2265, 2266, 2267, 2268, 2269, 2270, 2271, 2272, 2273, 2274, 2275, 2276, 2277, 2278, 2279, 2280, 2281, 2282, 2283, 2284, 2285, 2286, 2287, 2288, 2289, 2290, 2291, 2292, 2293, 2294, 2295, 2296, 2297, 2298, 2299, 2300, 2301, 2302, 2303, 2304, 2305, 2306, 2307, 2308, 2309, 2310, 2311, 2312, 2313, 2314, 2315, 2316, 2317, 2318, 2319, 2320, 2321, 2322, 2323, 2324, 2325, 2326, 2327, 2328, 2329, 2330, 2331, 2332, 2333, 2334, 2335, 2336, 2337, 2338, 2339, 2340, 2341, 2342, 2343, 2344, 2345, 2346, 2347, 2348, 2349, 2350, 2351, 2352, 2353, 2354, 2355, 2356, 2357, 2358, 2359, 2360, 2361, 2362, 2363, 2364, 2365, 2366, 2367, 2368, 2369, 2370, 2371, 2372, 2373, 2374, 2375, 2376, 2377, 2378, 2379, 2380, 2381, 2382, 2383, 2384, 2385, 2386, 2387, 2388, 2389, 2390, 2391, 2392, 2393, 2394, 2395, 2396, 2397, 2398, 2399, 2400, 2401, 2402, 2403, 2404, 2405, 2406, 2407, 2408, 2409, 2410, 2411, 2412, 2413, 2415, 2416, 2417, 2422, 2423, 2425, 2426, 2427, 2428, 2429, 2430, 2431, 2432, 2433, 2434, 2435, 2436, 2437, 2438, 2439, 2440, 2441, 2442, 2443, 2444, 2445, 2446, 2447, 2448, 2450, 2451, 2452, 2453, 2454, 2455, 2456, 2457, 2458, 2459, 2460, 2461, 2462, 2463, 2466, 2470, 2471, 2472, 2473, 2474, 2475, 2476, 2477, 2478, 2479, 2480, 2481, 2482, 2483, 2484, 2485, 2486, 2487, 2488, 2489, 2490, 2491, 2492, 2493, 2494, 2495, 2496, 2497, 2498, 2499, 2500, 2501, 2502, 2503, 2504, 2505, 2506, 2507, 2508, 2509, 2510, 2511, 2512, 2513, 2514, 2515, 2516, 2517, 2518, 2519, 2520, 2521, 2522, 2523, 2524, 2525, 2526, 2527, 2528, 2529, 2530, 2531, 2532, 2533, 2534, 2535, 2536, 2537, 2538, 2539, 2540, 2541, 2542, 2543, 2544, 2545, 2546, 2547, 2548, 2549, 2550, 2551, 2552, 2553, 2554, 2555, 2556, 2557, 2558, 2559, 2560, 2561, 2562, 2563, 2564, 2565, 2566, 2567, 2568, 2569, 2570, 2571, 2572, 2573, 2574, 2575, 2576, 2577, 2578, 2579, 2580, 2581, 2582, 2583, 2584, 2585, 2586, 2587, 2588, 2589, 2590, 2591, 2592, 2593, 2594, 2595, 2596, 2597, 2598, 2599, 2600, 2601, 2602, 2603, 2604, 2605, 2606, 2607, 2608, 2609, 2610, 2611, 2612, 2613, 2614, 2615, 2616, 2617, 2618, 2619, 2620, 2621, 2622, 2623, 2624, 2625, 2626, 2627, 2628, 2629, 2630, 2631, 2632, 2633, 2634, 2635, 2636, 2637, 2638, 2639, 2640, 2641, 2642, 2643, 2644, 2645, 2646, 2647, 2648, 2649, 2650, 2651, 2652, 2653, 2654, 2655, 2656, 2657, 2658, 2660, 2664, 2665, 2666, 2668, 2669, 2670, 2672, 2673, 2674, 2675, 2676, 2677, 2678, 2679, 2680, 2681, 2682, 2683, 2684, 2685, 2686, 2687, 2688, 2689, 2690, 2691, 2692, 2693, 2694, 2695, 2696, 2697, 2698, 2699, 2700, 2701, 2702, 2703, 2704, 2705, 2706, 2707, 2708, 2709, 2710, 2711, 2712, 2713, 2714, 2715, 2716, 2717, 2718, 2719, 2720, 2721, 2722, 2723, 2724, 2725, 2726, 2733, 2734, 2736, 2737, 2742, 2744, 2747, 2751, 2752, 2753, 2754, 2755, 2756, 2760, 2761, 2762, 2766, 2767, 2768, 2769, 2770, 2771, 2772, 2773, 2775, 2776, 2777, 2780, 2782, 2783, 2786, 2787, 2788, 2789, 2790, 2792, 2793, 2794, 2795, 2796, 2797, 2798, 2799, 2800, 2801, 2802, 2803, 2804, 2805, 2806, 2807, 2808, 2809, 2810, 2811, 2812, 2813, 2814, 2815, 2816, 2817, 2818, 2819, 2820, 2821, 2822, 2823, 2824, 2826, 2827, 2828, 2829, 2830, 2831, 2832, 2833, 2834, 2835, 2836, 2837, 2838, 2839, 2840, 2841, 2842, 2843, 2844, 2845, 2846, 2847, 2848, 2849, 2850, 2851, 2852, 2853, 2854, 2855, 2856, 2857, 2858, 2859, 2860, 2861, 2862, 2863, 2864, 2865, 2866, 2867, 2868, 2869, 2870, 2871, 2872, 2873, 2874, 2875, 2876, 2877, 2878, 2879, 2880, 2881, 2882, 2883, 2884, 2885, 2886, 2887, 2888, 2889, 2893, 2894, 2895, 2896, 2897, 2898, 2899, 2900, 2901, 2902, 2903, 2904, 2905, 2906, 2907, 2908, 2909, 2911, 2912, 2913, 2914, 2915, 2916, 2917]\n",
            "Stretching: [204, 220, 221, 222, 223, 224, 225, 250, 254, 342, 665, 666, 667, 671, 672, 674, 675, 678, 679, 680, 682, 689, 690, 691, 698, 699, 704, 811, 852, 869, 870, 871, 882, 883, 904, 905, 906, 907, 908, 912, 913, 914, 1161, 1162, 1174, 1206, 1207, 1213, 1237, 1238, 1239, 1240, 1241, 1242, 1249, 1253, 1290, 1291, 1338, 1339, 1343, 1368, 1371, 1372, 1374, 1375, 1376, 1377, 1379, 1381, 1383, 1384, 1385, 1387, 1388, 1391, 1403, 1404, 1405, 1406, 1407, 1417, 1455, 1513, 1514, 1515, 1531, 1532, 1533, 1537, 1595, 1596, 1597, 1598, 1599, 1600, 1602, 1608, 1624, 1625, 1626, 1627, 1738, 1739, 1740, 1741, 1778, 1779, 1797, 2013, 2141, 2142, 2143, 2144, 2145, 2146, 2147, 2148, 2149, 2150, 2151, 2164, 2187, 2232, 2419, 2420, 2662, 2663, 2671, 2727, 2728, 2729, 2730, 2731, 2732, 2741, 2743, 2745, 2746, 2748, 2749, 2750, 2763, 2764, 2890, 2891, 2892]\n",
            "Strongman: [1159, 1195, 1196, 1342, 1577, 1578, 1579, 1581, 1997, 1999, 2005, 2009, 2010, 2014, 2018, 2020, 2026, 2028, 2468, 2659, 2661, 2667]\n"
          ]
        }
      ]
    },
    {
      "cell_type": "markdown",
      "source": [
        "##Synthetic Generation of user profile"
      ],
      "metadata": {
        "id": "mLA2Xy8vSnHk"
      }
    },
    {
      "cell_type": "code",
      "source": [
        "genders = ['Male', 'Female']\n",
        "fitness_goals = ['Weight loss', 'Muscle gain', 'Endurance', 'General fitness']\n",
        "secondary_goals = ['Flexibility', 'Balance', 'Stress reduction', 'Posture correction', 'Agility']\n",
        "activity_types = ['Cardio', 'Strength training', 'Yoga', 'Walking', 'Cycling', 'Swimming', 'HIIT']\n",
        "workout_intensities = ['Beginner', 'Intermediate', 'Expert']"
      ],
      "metadata": {
        "id": "tTDMfn97SWDq"
      },
      "execution_count": 18,
      "outputs": []
    },
    {
      "cell_type": "code",
      "source": [
        "def generate_user_profile(user_id):\n",
        "    age = random.randint(18, 35)\n",
        "    gender = random.choice(genders)\n",
        "    height = random.randint(150, 190)  # Height in cm\n",
        "    weight = random.randint(45, 100)  # Weight in kg\n",
        "    bmi = round(weight / ((height / 100) ** 2), 2)  # Calculate BMI using weight and height\n",
        "\n",
        "    # Generate fitness goals and preferences\n",
        "    primary_goal = random.choice(fitness_goals)\n",
        "    secondary_goal = random.choice(secondary_goals)\n",
        "    preferred_activity = random.choice(activity_types)\n",
        "    workout_intensity = random.choice(workout_intensities)\n",
        "\n",
        "    # Build the user profile with a unique user_id\n",
        "    user_profile = {\n",
        "        'uid': user_id,\n",
        "        'Age': age,\n",
        "        'Gender': gender,\n",
        "        'Height (cm)': height,\n",
        "        'Weight (kg)': weight,\n",
        "        'BMI': bmi,\n",
        "        'Primary Fitness Goal': primary_goal,\n",
        "        'Secondary Fitness Goal': secondary_goal,\n",
        "        'Preferred Activity Type': preferred_activity,\n",
        "        'Workout Intensity': workout_intensity,\n",
        "    }\n",
        "\n",
        "    return user_profile\n",
        "\n",
        "# Generate a list of user profiles with random user IDs (from 1 to 10)\n",
        "user_profiles = pd.DataFrame([generate_user_profile(user_id) for user_id in range(1001, 1011)])\n",
        "\n",
        "# Print the generated user profiles\n",
        "print(user_profiles)\n"
      ],
      "metadata": {
        "colab": {
          "base_uri": "https://localhost:8080/"
        },
        "id": "S0lVjJuWH5Wv",
        "outputId": "fe8f59a7-87bf-46f8-e738-3d50f55163ca"
      },
      "execution_count": 19,
      "outputs": [
        {
          "output_type": "stream",
          "name": "stdout",
          "text": [
            "    uid  Age  Gender  Height (cm)  Weight (kg)    BMI Primary Fitness Goal  \\\n",
            "0  1001   21    Male          167           60  21.51          Muscle gain   \n",
            "1  1002   35    Male          187           72  20.59          Weight loss   \n",
            "2  1003   25    Male          185           57  16.65      General fitness   \n",
            "3  1004   26    Male          160           89  34.77      General fitness   \n",
            "4  1005   24  Female          156           50  20.55      General fitness   \n",
            "5  1006   26    Male          179           79  24.66          Weight loss   \n",
            "6  1007   27  Female          186           57  16.48          Weight loss   \n",
            "7  1008   27    Male          164          100  37.18          Weight loss   \n",
            "8  1009   29    Male          173           67  22.39          Muscle gain   \n",
            "9  1010   20    Male          184           91  26.88          Muscle gain   \n",
            "\n",
            "  Secondary Fitness Goal Preferred Activity Type Workout Intensity  \n",
            "0                Balance                Swimming          Beginner  \n",
            "1            Flexibility                  Cardio          Beginner  \n",
            "2                Balance                 Walking            Expert  \n",
            "3       Stress reduction                    Yoga          Beginner  \n",
            "4            Flexibility                    Yoga      Intermediate  \n",
            "5     Posture correction                  Cardio            Expert  \n",
            "6            Flexibility                Swimming          Beginner  \n",
            "7     Posture correction                    Yoga      Intermediate  \n",
            "8       Stress reduction                Swimming            Expert  \n",
            "9                Balance                 Walking      Intermediate  \n"
          ]
        }
      ]
    },
    {
      "cell_type": "markdown",
      "source": [
        "##Synthetic generation of workout feedback\n",
        "\n"
      ],
      "metadata": {
        "id": "ZuyD19roSqen"
      }
    },
    {
      "cell_type": "code",
      "source": [
        "print(user_profiles)\n",
        "print(ex_for_analysis.head())\n",
        "print(fitness_goal_to_exercise_type)"
      ],
      "metadata": {
        "colab": {
          "base_uri": "https://localhost:8080/"
        },
        "id": "6MO5_H1gTtWb",
        "outputId": "00874146-151a-40ad-dd17-bb5fc9f3b807"
      },
      "execution_count": 20,
      "outputs": [
        {
          "output_type": "stream",
          "name": "stdout",
          "text": [
            "    uid  Age  Gender  Height (cm)  Weight (kg)    BMI Primary Fitness Goal  \\\n",
            "0  1001   21    Male          167           60  21.51          Muscle gain   \n",
            "1  1002   35    Male          187           72  20.59          Weight loss   \n",
            "2  1003   25    Male          185           57  16.65      General fitness   \n",
            "3  1004   26    Male          160           89  34.77      General fitness   \n",
            "4  1005   24  Female          156           50  20.55      General fitness   \n",
            "5  1006   26    Male          179           79  24.66          Weight loss   \n",
            "6  1007   27  Female          186           57  16.48          Weight loss   \n",
            "7  1008   27    Male          164          100  37.18          Weight loss   \n",
            "8  1009   29    Male          173           67  22.39          Muscle gain   \n",
            "9  1010   20    Male          184           91  26.88          Muscle gain   \n",
            "\n",
            "  Secondary Fitness Goal Preferred Activity Type Workout Intensity  \n",
            "0                Balance                Swimming          Beginner  \n",
            "1            Flexibility                  Cardio          Beginner  \n",
            "2                Balance                 Walking            Expert  \n",
            "3       Stress reduction                    Yoga          Beginner  \n",
            "4            Flexibility                    Yoga      Intermediate  \n",
            "5     Posture correction                  Cardio            Expert  \n",
            "6            Flexibility                Swimming          Beginner  \n",
            "7     Posture correction                    Yoga      Intermediate  \n",
            "8       Stress reduction                Swimming            Expert  \n",
            "9                Balance                 Walking      Intermediate  \n",
            "   ExNo      Type    BodyPart         Level\n",
            "0     0  Strength  Abdominals  Intermediate\n",
            "1     1  Strength  Abdominals  Intermediate\n",
            "2     2  Strength  Abdominals  Intermediate\n",
            "3     3  Strength  Abdominals  Intermediate\n",
            "4     4  Strength  Abdominals  Intermediate\n",
            "{'Weight loss': ['Cardio', 'Strength', 'HIIT'], 'Muscle gain': ['Strength', 'Powerlifting', 'Olympic Weightlifting'], 'Endurance': ['Cardio', 'Plyometrics', 'Strength'], 'General fitness': ['Strength', 'Cardio', 'Yoga', 'Plyometrics']}\n"
          ]
        }
      ]
    },
    {
      "cell_type": "code",
      "source": [
        "def generate_workoutfeedback(user_profiles, ex_type_dict, fitness_goal_to_exercise_type):\n",
        "    workout_feedback_data = []\n",
        "    for _, user in user_profiles.iterrows():\n",
        "        primary_goal = user['Primary Fitness Goal']\n",
        "        relevant_exercise_types = fitness_goal_to_exercise_type.get(primary_goal, [])\n",
        "        relevant_exercises = []\n",
        "        for exercise_type in relevant_exercise_types:\n",
        "            relevant_exercises.extend(ex_type_dict.get(exercise_type, []))\n",
        "        selected_exercises = random.sample(relevant_exercises, k=random.randint(1, 3))  # Select 1 to 3 exercises randomly\n",
        "\n",
        "        for exid in selected_exercises:\n",
        "            feedback_entry = {\n",
        "                'uid': user['uid'],\n",
        "                'exid': exid,\n",
        "                'frequency': random.choice(['Daily',\n",
        "                     '5 times a week',\n",
        "                     '3 times a week',\n",
        "                     'Twice a week',\n",
        "                     'Once a week']\n",
        "),\n",
        "                'completionstatus': random.choice(['Completed', 'Skipped', 'Not Attempted']),\n",
        "                'rating': random.randint(1, 5),  # Rating scale from 1 to 5\n",
        "                'motivation_level': random.randint(1, 5)  # Motivation level from 1 to 5\n",
        "            }\n",
        "            workout_feedback_data.append(feedback_entry)\n",
        "\n",
        "    workoutfeedback = pd.DataFrame(workout_feedback_data)\n",
        "    return workoutfeedback\n",
        "\n",
        "workoutfeedback = generate_workoutfeedback(user_profiles, ex_type_dict, fitness_goal_to_exercise_type)\n",
        "\n",
        "print(workoutfeedback)\n"
      ],
      "metadata": {
        "colab": {
          "base_uri": "https://localhost:8080/"
        },
        "id": "fuT67kljQKwp",
        "outputId": "90e7878a-6999-46b6-8877-ced8e4e1dc58"
      },
      "execution_count": 21,
      "outputs": [
        {
          "output_type": "stream",
          "name": "stdout",
          "text": [
            "     uid  exid       frequency completionstatus  rating  motivation_level\n",
            "0   1001  2613  3 times a week        Completed       2                 1\n",
            "1   1001   956  3 times a week          Skipped       3                 1\n",
            "2   1002  2620  3 times a week        Completed       4                 4\n",
            "3   1003  2196  5 times a week        Completed       5                 5\n",
            "4   1003   601  3 times a week    Not Attempted       5                 4\n",
            "5   1003  1153     Once a week          Skipped       3                 2\n",
            "6   1004  2407    Twice a week        Completed       1                 1\n",
            "7   1005  2169  5 times a week    Not Attempted       4                 5\n",
            "8   1006  1728    Twice a week    Not Attempted       4                 5\n",
            "9   1007  2563           Daily    Not Attempted       5                 3\n",
            "10  1007    12  3 times a week        Completed       3                 4\n",
            "11  1008  2079           Daily    Not Attempted       3                 5\n",
            "12  1009  2399           Daily    Not Attempted       3                 5\n",
            "13  1010   855  5 times a week    Not Attempted       5                 1\n",
            "14  1010   644     Once a week          Skipped       4                 1\n",
            "15  1010  1718           Daily          Skipped       3                 2\n"
          ]
        }
      ]
    },
    {
      "cell_type": "code",
      "source": [
        "user_profiles.to_csv('user_profiles.csv', index=False)\n",
        "workoutfeedback.to_csv('workoutfeedback.csv', index=False)"
      ],
      "metadata": {
        "id": "sXXQ4Ix6G8So"
      },
      "execution_count": 22,
      "outputs": []
    },
    {
      "cell_type": "code",
      "source": [
        "'''from google.colab import files\n",
        "files.download('user_profiles.csv')\n",
        "files.download('workoutfeedback.csv')'''"
      ],
      "metadata": {
        "colab": {
          "base_uri": "https://localhost:8080/",
          "height": 17
        },
        "id": "vGo-xLK_HDpV",
        "outputId": "9becb761-f8ea-4b31-bdde-6d81ca5c0abe"
      },
      "execution_count": 23,
      "outputs": [
        {
          "output_type": "display_data",
          "data": {
            "text/plain": [
              "<IPython.core.display.Javascript object>"
            ],
            "application/javascript": [
              "\n",
              "    async function download(id, filename, size) {\n",
              "      if (!google.colab.kernel.accessAllowed) {\n",
              "        return;\n",
              "      }\n",
              "      const div = document.createElement('div');\n",
              "      const label = document.createElement('label');\n",
              "      label.textContent = `Downloading \"${filename}\": `;\n",
              "      div.appendChild(label);\n",
              "      const progress = document.createElement('progress');\n",
              "      progress.max = size;\n",
              "      div.appendChild(progress);\n",
              "      document.body.appendChild(div);\n",
              "\n",
              "      const buffers = [];\n",
              "      let downloaded = 0;\n",
              "\n",
              "      const channel = await google.colab.kernel.comms.open(id);\n",
              "      // Send a message to notify the kernel that we're ready.\n",
              "      channel.send({})\n",
              "\n",
              "      for await (const message of channel.messages) {\n",
              "        // Send a message to notify the kernel that we're ready.\n",
              "        channel.send({})\n",
              "        if (message.buffers) {\n",
              "          for (const buffer of message.buffers) {\n",
              "            buffers.push(buffer);\n",
              "            downloaded += buffer.byteLength;\n",
              "            progress.value = downloaded;\n",
              "          }\n",
              "        }\n",
              "      }\n",
              "      const blob = new Blob(buffers, {type: 'application/binary'});\n",
              "      const a = document.createElement('a');\n",
              "      a.href = window.URL.createObjectURL(blob);\n",
              "      a.download = filename;\n",
              "      div.appendChild(a);\n",
              "      a.click();\n",
              "      div.remove();\n",
              "    }\n",
              "  "
            ]
          },
          "metadata": {}
        },
        {
          "output_type": "display_data",
          "data": {
            "text/plain": [
              "<IPython.core.display.Javascript object>"
            ],
            "application/javascript": [
              "download(\"download_d5e7b5f9-162d-4993-b541-b94f47ca541c\", \"user_profiles.csv\", 826)"
            ]
          },
          "metadata": {}
        },
        {
          "output_type": "display_data",
          "data": {
            "text/plain": [
              "<IPython.core.display.Javascript object>"
            ],
            "application/javascript": [
              "\n",
              "    async function download(id, filename, size) {\n",
              "      if (!google.colab.kernel.accessAllowed) {\n",
              "        return;\n",
              "      }\n",
              "      const div = document.createElement('div');\n",
              "      const label = document.createElement('label');\n",
              "      label.textContent = `Downloading \"${filename}\": `;\n",
              "      div.appendChild(label);\n",
              "      const progress = document.createElement('progress');\n",
              "      progress.max = size;\n",
              "      div.appendChild(progress);\n",
              "      document.body.appendChild(div);\n",
              "\n",
              "      const buffers = [];\n",
              "      let downloaded = 0;\n",
              "\n",
              "      const channel = await google.colab.kernel.comms.open(id);\n",
              "      // Send a message to notify the kernel that we're ready.\n",
              "      channel.send({})\n",
              "\n",
              "      for await (const message of channel.messages) {\n",
              "        // Send a message to notify the kernel that we're ready.\n",
              "        channel.send({})\n",
              "        if (message.buffers) {\n",
              "          for (const buffer of message.buffers) {\n",
              "            buffers.push(buffer);\n",
              "            downloaded += buffer.byteLength;\n",
              "            progress.value = downloaded;\n",
              "          }\n",
              "        }\n",
              "      }\n",
              "      const blob = new Blob(buffers, {type: 'application/binary'});\n",
              "      const a = document.createElement('a');\n",
              "      a.href = window.URL.createObjectURL(blob);\n",
              "      a.download = filename;\n",
              "      div.appendChild(a);\n",
              "      a.click();\n",
              "      div.remove();\n",
              "    }\n",
              "  "
            ]
          },
          "metadata": {}
        },
        {
          "output_type": "display_data",
          "data": {
            "text/plain": [
              "<IPython.core.display.Javascript object>"
            ],
            "application/javascript": [
              "download(\"download_e51c8f5e-fe54-4710-808c-692f0a004fa7\", \"workoutfeedback.csv\", 652)"
            ]
          },
          "metadata": {}
        }
      ]
    }
  ]
}